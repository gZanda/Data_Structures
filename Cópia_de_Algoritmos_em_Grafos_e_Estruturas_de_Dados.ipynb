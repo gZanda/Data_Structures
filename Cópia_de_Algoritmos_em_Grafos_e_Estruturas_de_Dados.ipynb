{
  "nbformat": 4,
  "nbformat_minor": 0,
  "metadata": {
    "colab": {
      "name": "Cópia de Algoritmos em Grafos e Estruturas de Dados.ipynb",
      "provenance": [],
      "collapsed_sections": [],
      "include_colab_link": true
    },
    "kernelspec": {
      "name": "python3",
      "display_name": "Python 3"
    },
    "language_info": {
      "name": "python"
    }
  },
  "cells": [
    {
      "cell_type": "markdown",
      "metadata": {
        "id": "view-in-github",
        "colab_type": "text"
      },
      "source": [
        "<a href=\"https://colab.research.google.com/github/gZanda/Data_Structures/blob/main/C%C3%B3pia_de_Algoritmos_em_Grafos_e_Estruturas_de_Dados.ipynb\" target=\"_parent\"><img src=\"https://colab.research.google.com/assets/colab-badge.svg\" alt=\"Open In Colab\"/></a>"
      ]
    },
    {
      "cell_type": "markdown",
      "source": [
        "# Algoritmos em Grafos\n",
        "## Por: Mayron César O. Moreira\n",
        "## Departamento de Ciência da Computação\n",
        "## Instituto de Ciências Exatas e Tecnológicas\n",
        "## Universidade Federal de Lavras"
      ],
      "metadata": {
        "id": "b4aDJLjh_opk"
      }
    },
    {
      "cell_type": "markdown",
      "source": [
        "# Introdução\n",
        "\n",
        "> \"*Begin at the beginning*\" the King said, very gravely,  \n",
        "\"*and go on till you come to the end: then stop.*\"  \n",
        "> - Lewis Carroll (Alice in Wonderland)\n",
        "\n",
        "Grafos são objetos matemáticos úteis na abstração e resolução de problemas em áreas como Telecomunicações, Transportes e Redes Sociais. As notas de aula do curso de Algoritmos em Grafos não possuem de forma alguma o objetivo de substituir a leitura de livros texto e artigos clássicos da área. A ideia é fornecer ao estudante um material suplementar que o auxilie no aprendizado do conteúdo.  \n",
        "\n",
        "Divirtam-se com os grafos! :)  \n",
        "Bons estudos!\n",
        "\n",
        "## Contato\n",
        "\n",
        "Para dúvidas e sugestões, entrem em contato comigo em algum desses canais: \n",
        "\n",
        "- mayron.moreira@ufla.br  \n",
        "- <http://professores.dcc.ufla.br/~mayron/>"
      ],
      "metadata": {
        "id": "HzD2mfsk_p-G"
      }
    },
    {
      "cell_type": "markdown",
      "source": [
        "# Conteúdos\n",
        "\n",
        "## [1. Conceitos elementares](https://colab.research.google.com/drive/1EUFjnDdJn6ZWcaNQblmKXoWfXZnzehAc?usp=sharing)\n",
        "- [Demonstrações por contradição](https://colab.research.google.com/drive/1sixygWzBSDvy34T75C96EG3cL2QqxMvN?usp=sharing)\n",
        "- [Princípio da Indução Matemática](https://colab.research.google.com/drive/1BjUy9XQ0rreMivp8CaatCdSWEg9BHvA8?usp=sharing)\n",
        "- [O que é um grafo?](https://colab.research.google.com/drive/1R6pZ2lBbS6qIR5c7qlU-MWMjdX734Trr?usp=sharing)\n",
        "- [Isomorfismo](https://colab.research.google.com/drive/1ODfOffucxbRdFBla2IzASc9yhAblB0BA?usp=sharing)\n",
        "- [Planaridade](https://colab.research.google.com/drive/1E29VSLl_gJdk1Q8ME0F80hlkJ5OrJK_-?usp=sharing)\n",
        "\n",
        "## [2. Estruturas de Dados](https://colab.research.google.com/drive/18kY3ObtNZnuo2_r58yAh6xnPft4uUy0S?usp=sharing)  \n",
        "- [Lista de adjacência](https://colab.research.google.com/drive/1zOVMPKzUKm4J0JWp9TzdddQwdQdGbjmR?usp=sharing)  \n",
        "- [Matriz de adjacência](https://colab.research.google.com/drive/1tp_06r_ULREJxk3KhP_KbLqcLgksszNh?usp=sharing)  \n",
        "- [Matriz de incidência](https://colab.research.google.com/drive/1gSraDuoN5_XD8HB4fZ7FCcsOgkujjdHY?usp=sharing)  \n",
        "- [Lista de arestas](https://colab.research.google.com/drive/1ABX3DHJ8RZ3dLNXjXcPG3gyj-0xmrhf4?usp=sharing)  \n",
        "\n",
        "## [3. Busca em grafos](https://colab.research.google.com/drive/1Tx2WxIU0p3lCn_-KFmhKMNGyrz01TGBK?usp=sharing)  \n",
        "- [Busca em Largura - BFS](https://colab.research.google.com/drive/1cWu7KwIQhVuFhixSF6Fo3Wxg-Ltzwgx3?usp=sharing)\n",
        "- [Busca em Profundidade - DFS](https://colab.research.google.com/drive/1Nruq7g4Y18Musiga7b0zhEqXO9JJ7Yks?usp=sharing)\n",
        "\n",
        "## [4. Problema da Árvore Geradora Mínima](https://colab.research.google.com/drive/1kWnFNsSmKjvw9fBkEtffMjs6eB7NuzPW?usp=sharing)\n",
        "- [Algoritmo de Kruskall](https://colab.research.google.com/drive/1vppGEnnh_Px8kGgrCA71CSYuUrCVCaJu?usp=sharing)\n",
        "- [Algoritmo de Prim](https://colab.research.google.com/drive/1hy2UFP6ayLG03x6R5M3E5hp07CKAkElU?usp=sharing)\n",
        "\n",
        "## [5. Grafos Eulerianos](https://colab.research.google.com/drive/1irBQcdjK-46v8QQRahIemCuxYGhBcDUC?usp=sharing)\n",
        "- [Algoritmo de Hierholzer](https://colab.research.google.com/drive/1PvW1ud3BIollIU0If9SDCYCsJ5o2j0o0?usp=sharing)  \n",
        "- [Algoritmo de Fleury](https://colab.research.google.com/drive/1nY3GaEtuLW76-odvnYk65_ALiL8FQG84?usp=sharing)  \n",
        "\n",
        "## [6. Grafos Hamiltonianos](https://colab.research.google.com/drive/1smBsxdKhi0888z73s89lyUWpTRukQho6?usp=sharing)\n",
        "- [Problema do Caixeiro Viajante](https://colab.research.google.com/drive/1cmrjNQ3jK6x6gBlMm9ymmCrY7-tBKiTf?usp=sharing)\n",
        "\n",
        "## [7. Problema de Caminhos Mais Curtos](https://colab.research.google.com/drive/1U123sjqRKi78qSFv9VbrclQN35laaf-1?usp=sharing)\n",
        "- [Algoritmo de Bellman-Ford](https://colab.research.google.com/drive/1jJ63dUPdhPRXgfHPyARYXIZ0VUTIspzc?usp=sharing)\n",
        "- [Algoritmo de Dijkstra](https://colab.research.google.com/drive/1SKypDx6LedO7DDivj3YKhq-49ryV5nFz?usp=sharing)\n",
        "- [Algoritmos de Floyd-Warshall](https://colab.research.google.com/drive/1uteACPo39PGk2yyljkeh9JPaF5As06b9?usp=sharing)\n",
        "- [Comparação assintótica dos algoritmos](https://colab.research.google.com/drive/17mpLeuhKvx7z7dxAdhj9JiFV2guK9o0Q?usp=sharing)\n",
        "\n",
        "## 8. Problema do Fluxo Máximo\n",
        "- [Algoritmo de Fluxo Máximo](https://colab.research.google.com/drive/1YFbVy4IxENE9KucV1n4jU5bRGZd0BrnP?usp=sharing)\n"
      ],
      "metadata": {
        "id": "cHTH-xavBOqX"
      }
    }
  ]
}